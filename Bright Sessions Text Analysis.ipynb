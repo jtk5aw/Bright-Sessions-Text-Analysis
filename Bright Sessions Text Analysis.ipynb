{
 "cells": [
  {
   "cell_type": "markdown",
   "metadata": {},
   "source": [
    "# Bright Sessions Text Analysis"
   ]
  },
  {
   "cell_type": "markdown",
   "metadata": {},
   "source": [
    "###### Personal Notes\n",
    "TextBlob seems to just have a ton of words and there associated polarity, subjectivity and intensity (for modifying next word) values that it will just average (found here: https://planspace.org/20150607-textblob_sentiment/). Makes it really good for simple stuff but this isn't the ideal thing to use. Can look into other approaches that aren't so rigid"
   ]
  },
  {
   "cell_type": "code",
   "execution_count": 5,
   "metadata": {},
   "outputs": [],
   "source": [
    "# General Imports\n",
    "import pandas as pd\n",
    "import numpy as np\n",
    "import json\n",
    "\n",
    "# NLP Imports\n",
    "from textblob import TextBlob\n",
    "import re # regular expressions\n",
    "\n",
    "#Graphing imports\n",
    "import matplotlib.cm\n",
    "import matplotlib.pyplot as plt\n",
    "from matplotlib import style\n",
    "import seaborn as sns\n",
    "from pywaffle import Waffle\n",
    "import squarify"
   ]
  },
  {
   "cell_type": "markdown",
   "metadata": {},
   "source": [
    "### Loading the Data"
   ]
  },
  {
   "cell_type": "code",
   "execution_count": 7,
   "metadata": {},
   "outputs": [],
   "source": [
    "scripts_dict = {}\n",
    "with open('data/bright_scripts.json', 'r') as read:\n",
    "    scripts_dict = json.load(read)"
   ]
  },
  {
   "cell_type": "markdown",
   "metadata": {},
   "source": [
    "## Cleaning and Organizing The Data"
   ]
  },
  {
   "cell_type": "markdown",
   "metadata": {},
   "source": [
    "Cleans lines that have no speaker. These are either some form of effect (handled later) or a longer line that was formatted differently on the website. This focuses on the latter and combines them with the previous line so data isn't lost\n",
    "\n",
    "Also deals with the one case where an effect is embedded within a spoken line"
   ]
  },
  {
   "cell_type": "code",
   "execution_count": 8,
   "metadata": {},
   "outputs": [],
   "source": [
    "# Time Permitting: Probably good programming practice to put this in a preprocess method\n",
    "for episode in scripts_dict:\n",
    "    i = 0\n",
    "    while i < len(scripts_dict[episode]):\n",
    "        # Greater than 15 ignores the effects lines (handled later)\n",
    "        if (':' not in scripts_dict[episode][i] and len(scripts_dict[episode][i]) > 25) or 'never been that wrong about someone before. So you can imagine how I felt' in scripts_dict[episode][i] or 'hard sticking to my own vision of something when I' in scripts_dict[episode][i]:\n",
    "            # Adds the line to the previous line of dialogue\n",
    "            scripts_dict[episode][i - 1] = scripts_dict[episode][i - 1] + ' ' + scripts_dict[episode][i]\n",
    "            # Deletes the line that was added to the previous line to prevent repeates (must decrement i as well)\n",
    "            scripts_dict[episode] = scripts_dict[episode][:i] + scripts_dict[episode][i+1:]\n",
    "            i-=1\n",
    "        # Only one case of this in the first episode (second and so that it only considers the case where this is embedded in spoken text)\n",
    "        elif len(scripts_dict[episode][i]) > len('[sfx: writing on paper]') + 2 and '[sfx: writing on paper]' in scripts_dict[episode][i]:\n",
    "            left_brack_index = scripts_dict[episode][i].index('[')\n",
    "            right_brack_index = scripts_dict[episode][i].index(']')\n",
    "            # Inserts the spoken line into the dict so it is considered as a sound effect later on\n",
    "            scripts_dict[episode].insert(i+1, scripts_dict[episode][i][left_brack_index:right_brack_index+1])\n",
    "            # Removes the sfx from the spoken line\n",
    "            scripts_dict[episode][i] = scripts_dict[episode][i][:left_brack_index] + scripts_dict[episode][i][right_brack_index+2:]\n",
    "            # Skips the next line (know what it is)\n",
    "            i+=1\n",
    "        i+=1"
   ]
  },
  {
   "cell_type": "code",
   "execution_count": 9,
   "metadata": {},
   "outputs": [],
   "source": [
    "# List of effects to be considered\n",
    "effect_list = ['[sfx', '[credits', '[tfx', '[passing', '[elevator', '[music', '[fade out', '(time', '[time']\n",
    "Max_Character_Len = len('Director Wadsworth') #17"
   ]
  },
  {
   "cell_type": "code",
   "execution_count": 10,
   "metadata": {},
   "outputs": [],
   "source": [
    "# Preps all the data to be put into a DataFrame\n",
    "to_be_df = []\n",
    "# Regular Expressions to remove punctuation from spoken lines\n",
    "REPLACE_PUNC = re.compile(\"(\\’)|(\\.)|(\\;)|(\\:)|(\\!)|(\\')|(\\?)|(\\,)|(\\\")|(\\()|(\\))|(\\[)|(\\])\")\n",
    "REPLACE_ELLIPSE = re.compile(\"(\\.\\.\\.)\")\n",
    "# Gettting each episode script\n",
    "for episode, script in scripts_dict.items():\n",
    "    for line in script:\n",
    "        # Reset effect boolean\n",
    "        is_effect = False\n",
    "        # Check if current line is an effect\n",
    "        for effect in effect_list:\n",
    "            # If the line is just an effect we break \n",
    "            if line.startswith(effect):\n",
    "                is_effect = True\n",
    "                to_be_df.append(('effect', episode, line))\n",
    "                break\n",
    "            # If it is a spoken line with an effect in it we remove it and \n",
    "        # Must be a spoken line\n",
    "        if not is_effect: \n",
    "            speaker_spoken = line.split(':')\n",
    "            speaker = speaker_spoken[0].strip()\n",
    "            spoken = ' '.join(speaker_spoken[1:])\n",
    "            # Removes all punctuation from the text. Removes ... first so that spaces are preserved in ther place\n",
    "            spoken = REPLACE_ELLIPSE.sub(' ', spoken.lower())\n",
    "            spoken = REPLACE_PUNC.sub('', spoken.lower())\n",
    "            # Only adds the speaker if it is actually a character\n",
    "            # Ignores character names that are too long or too short to actually be characters\n",
    "            if len(speaker) <= Max_Character_Len and len(speaker) > 1:\n",
    "                to_be_df.append((speaker, episode, spoken))"
   ]
  },
  {
   "cell_type": "markdown",
   "metadata": {},
   "source": [
    "### Create the Dataframe and do Final Cleaning"
   ]
  },
  {
   "cell_type": "code",
   "execution_count": 11,
   "metadata": {},
   "outputs": [],
   "source": [
    "labels = ['Speaker', 'Episode', 'Line']\n",
    "df = pd.DataFrame(to_be_df, columns=labels)"
   ]
  },
  {
   "cell_type": "code",
   "execution_count": 12,
   "metadata": {},
   "outputs": [
    {
     "name": "stdout",
     "output_type": "stream",
     "text": [
      "['effect' 'Dr. Bright' 'Sam' 'Dr Bright' 'Lauren Shippen' 'Caleb' 'Chloe'\n",
      " 'Damien' 'Sarah' 'Adam' 'Agent Green' 'Voicemail voice' 'Guard'\n",
      " 'Guard #2' 'Mark' 'Director Wadsworth' 'Frank' 'Charlie' 'Wadsworth'\n",
      " 'Rose' 'Answering machine' '[sfx']\n"
     ]
    }
   ],
   "source": [
    "characters = df['Speaker'].unique()\n",
    "print(characters)"
   ]
  },
  {
   "cell_type": "markdown",
   "metadata": {},
   "source": [
    "Fixes Repeated Character Names"
   ]
  },
  {
   "cell_type": "code",
   "execution_count": 13,
   "metadata": {},
   "outputs": [
    {
     "name": "stdout",
     "output_type": "stream",
     "text": [
      "['effect' 'Dr. Bright' 'Sam' 'Lauren Shippen' 'Caleb' 'Chloe' 'Damien'\n",
      " 'Sarah' 'Adam' 'Agent Green' 'Voicemail voice' 'Guard' 'Guard #2' 'Mark'\n",
      " 'Wadsworth' 'Frank' 'Charlie' 'Rose' 'Answering machine' '[sfx']\n"
     ]
    }
   ],
   "source": [
    "df['Speaker'] = df['Speaker'].apply(lambda x: 'Dr. Bright' if x == 'Dr Bright' else x)\n",
    "df['Speaker'] = df['Speaker'].apply(lambda x: 'Wadsworth' if x == 'Director Wadsworth' else x)\n",
    "print(df['Speaker'].unique())"
   ]
  },
  {
   "cell_type": "markdown",
   "metadata": {},
   "source": [
    "Makes the one sfx cell an effect"
   ]
  },
  {
   "cell_type": "code",
   "execution_count": 14,
   "metadata": {},
   "outputs": [],
   "source": [
    "inc_effect = df[df['Speaker'] == '[sfx']\n",
    "to_add = pd.DataFrame([('effect', 44, '[sfx: click of recorder]')], columns=labels)\n",
    "df = pd.concat([df, to_add])\n",
    "df = df.drop([inc_effect.index[0]])"
   ]
  },
  {
   "cell_type": "code",
   "execution_count": 15,
   "metadata": {},
   "outputs": [
    {
     "name": "stdout",
     "output_type": "stream",
     "text": [
      "['effect' 'Dr. Bright' 'Sam' 'Lauren Shippen' 'Caleb' 'Chloe' 'Damien'\n",
      " 'Sarah' 'Adam' 'Agent Green' 'Voicemail voice' 'Guard' 'Guard #2' 'Mark'\n",
      " 'Wadsworth' 'Frank' 'Charlie' 'Rose' 'Answering machine']\n"
     ]
    }
   ],
   "source": [
    "print(df['Speaker'].unique())"
   ]
  },
  {
   "cell_type": "markdown",
   "metadata": {},
   "source": [
    "#### Adding Columns"
   ]
  },
  {
   "cell_type": "code",
   "execution_count": 16,
   "metadata": {},
   "outputs": [],
   "source": [
    "# Awful Programming practice but couldn't get it to work otherwise\n",
    "df[\"Polarity\"] = df[\"Line\"].apply(lambda line: TextBlob(line).sentiment.polarity)\n",
    "df[\"Subjectivity\"] = df[\"Line\"].apply(lambda line: TextBlob(line).sentiment.subjectivity)"
   ]
  },
  {
   "cell_type": "markdown",
   "metadata": {},
   "source": [
    "### Setting up Graphs"
   ]
  },
  {
   "cell_type": "code",
   "execution_count": 17,
   "metadata": {},
   "outputs": [
    {
     "name": "stdout",
     "output_type": "stream",
     "text": [
      "65 34\n"
     ]
    }
   ],
   "source": [
    "# Find positive and negative line counts\n",
    "positive_df = df[df[\"Polarity\"] > 0]\n",
    "positive_count = positive_df.shape[0]\n",
    "\n",
    "negative_df = df[df[\"Polarity\"] < 0]\n",
    "negative_count = negative_df.shape[0]\n",
    "\n",
    "positive_percent = int((positive_count / (positive_count + negative_count)) * 100)\n",
    "negative_percent = int((negative_count / (positive_count + negative_count)) * 100)\n",
    "\n",
    "print(str(positive_percent) + ' ' + str(negative_percent))"
   ]
  },
  {
   "cell_type": "code",
   "execution_count": 18,
   "metadata": {},
   "outputs": [],
   "source": [
    "# Set up DataFrame for comparing Polaritys and Subjectivities\n",
    "characters_to_linecount = dict(df['Speaker'].value_counts())\n",
    "frequent_characters = [key for key, val in characters_to_linecount.items() if val > 1000]\n",
    "\n",
    "df_frequent_characters = pd.DataFrame(columns=list(df))\n",
    "for character in frequent_characters:\n",
    "    df_frequent_characters = pd.concat([df_frequent_characters, df[df['Speaker'] == character]])\n",
    "    # Remove Polarities of zero as they are **most likely** just lines that TextBlob didn't know what to do with\n",
    "    # With these in the data is boring as it's basically just all zeros\n",
    "    df_frequent_characters= df_frequent_characters[df_frequent_characters['Polarity'] != 0]"
   ]
  },
  {
   "cell_type": "code",
   "execution_count": 19,
   "metadata": {},
   "outputs": [],
   "source": [
    "# Find line counts for each character and put it into a dataframe\n",
    "speakers = df['Speaker'].unique()\n",
    "to_be_df = []\n",
    "# Go through all unique speaker names\n",
    "for speaker in speakers:\n",
    "    # Add the tuples to a list to easily create the new DataFrame\n",
    "    line_count = df[df['Speaker'] == speaker].shape[0]\n",
    "    if line_count > 200:\n",
    "        to_be_df.append((speaker, line_count))\n",
    "# Create the DataFrame\n",
    "df_line_count = pd.DataFrame(data=to_be_df, columns=['Speaker', 'Count'])"
   ]
  },
  {
   "cell_type": "markdown",
   "metadata": {},
   "source": [
    "## Graphing"
   ]
  },
  {
   "cell_type": "code",
   "execution_count": 20,
   "metadata": {
    "scrolled": true
   },
   "outputs": [
    {
     "name": "stderr",
     "output_type": "stream",
     "text": [
      "c:\\python36-32\\lib\\site-packages\\matplotlib\\figure.py:2366: UserWarning: This figure includes Axes that are not compatible with tight_layout, so results might be incorrect.\n",
      "  warnings.warn(\"This figure includes Axes that are not compatible \"\n"
     ]
    },
    {
     "data": {
      "image/png": "[encoded data removed]",
      "text/plain": [
       "<Waffle size 432x288 with 1 Axes>"
      ]
     },
     "metadata": {
      "needs_background": "light"
     },
     "output_type": "display_data"
    }
   ],
   "source": [
    "data = {'Positive': positive_percent, 'Negative': negative_percent}\n",
    "\n",
    "fig = plt.figure(\n",
    "    FigureClass=Waffle, \n",
    "    rows=5, \n",
    "    values=data, \n",
    "    title={'label': 'Percentage of Positive and Negative Lines', 'loc': 'left'},\n",
    "    labels=[\"{0} ({1}%)\".format(k, v) for k, v in data.items()],\n",
    "    legend={'loc': 'upper left', 'bbox_to_anchor': (1.1, 1)}\n",
    ")"
   ]
  },
  {
   "cell_type": "code",
   "execution_count": 21,
   "metadata": {},
   "outputs": [
    {
     "data": {
      "image/png": "[encoded data removed]",
      "text/plain": [
       "<Figure size 432x288 with 1 Axes>"
      ]
     },
     "metadata": {
      "needs_background": "light"
     },
     "output_type": "display_data"
    }
   ],
   "source": [
    "title_dict = {'fontsize':20, 'fontweight':'bold'}\n",
    "plt = sns.boxplot(data=df_frequent_characters, x='Speaker', y='Polarity')\n",
    "title = plt.set_title(label='Polarity by Character', fontdict=title_dict)"
   ]
  },
  {
   "cell_type": "code",
   "execution_count": 22,
   "metadata": {},
   "outputs": [
    {
     "data": {
      "image/png": "[encoded data removed]",
      "text/plain": [
       "<Figure size 432x288 with 1 Axes>"
      ]
     },
     "metadata": {
      "needs_background": "light"
     },
     "output_type": "display_data"
    }
   ],
   "source": [
    "title_dict = {'fontsize':20, 'fontweight':'bold'}\n",
    "plt = sns.boxplot(data=df_frequent_characters, x='Speaker', y='Subjectivity')\n",
    "title = plt.set_title(label='Subjectivity by Character', fontdict=title_dict)"
   ]
  },
  {
   "cell_type": "code",
   "execution_count": 23,
   "metadata": {},
   "outputs": [
    {
     "data": {
      "image/png": "[encoded data removed]",
      "text/plain": [
       "<Figure size 432x288 with 1 Axes>"
      ]
     },
     "metadata": {
      "needs_background": "light"
     },
     "output_type": "display_data"
    }
   ],
   "source": [
    "# ** All this is from https://mubaris.com/posts/dataviz-treemaps/ ** #\n",
    "# Plotting the TreeMap\n",
    "title_dict = {'fontsize':20, 'fontweight':'bold'}\n",
    "plt = squarify.plot(sizes=df_line_count[\"Count\"], label=df_line_count[\"Speaker\"])\n",
    "title = plt.set_title(label=\"Spoken Lines by Each Character\", fontdict=title_dict)\n",
    "x = plt.axis('off')"
   ]
  },
  {
   "cell_type": "code",
   "execution_count": 24,
   "metadata": {},
   "outputs": [
    {
     "name": "stdout",
     "output_type": "stream",
     "text": [
      "Examples of Lines Classified with Postive Polarity: \n",
      "1 episode-48:  learned from the best \n",
      "2 episode-12:  im very happy to see you sam ive been worried about you \n",
      "3 episode-42:  its the greatest feeling in the world \n",
      "4 episode-45:  the best dont forget that while im gone \n",
      "5 episode-56:  chloe what are you doing here its wonderful to see you how are you\n",
      "6 episode-30:  wonderful now lets get started on this questionnaire shall we\n",
      "7 episode-28:  its perfectly alright hows school going\n",
      "8 episode-17:  wonderful be a doll get me a croissant will you\n",
      "9 episode-56:  i will i must say im very impressed \n",
      "10 episode-52:  i just wonder if this is the best thing for her shes distracted i dont want her to make any rash decisions \n",
      "\n",
      "\n",
      "Examples of Lines Classified with Negative Polarity: \n",
      "1 episode-46:  god you look terrible\n",
      "2 episode-1:  its horrible\n",
      "3 episode-53:  no no its alright youre always preparing for the worst i get it \n",
      "4 episode-35:  yeah this is sort of your worst nightmare isnt it\n",
      "5 episode-53:  no it was terrible you knew it was terrible and you wanted to hang it anyway \n",
      "6 episode-38:  you are awfully arrogant director wadsworth \n",
      "7 episode-17:  he is not a toy for gods sake no one was going to snatch him up and use him for some evil plot - you all had already taken care of that\n",
      "8 episode-31:  god i missed you weirdos my summer was so boring \n",
      "9 episode-54:  owen thats uncharacteristically ruthless of you  \n",
      "10 episode-46:  that place is horrible \n"
     ]
    }
   ],
   "source": [
    "polarity_sorted = df.sort_values(by='Polarity')\n",
    "polarity_sorted.iloc[0]\n",
    "polarity_sorted.tail(30)\n",
    "\n",
    "# Get some examples\n",
    "print(\"Examples of Lines Classified with Postive Polarity: \")\n",
    "for i in range(1,11):\n",
    "    print(str(i) + ' episode-' + polarity_sorted.iloc[-1*i]['Episode'] + ': ' + polarity_sorted.iloc[-1*i]['Line'])\n",
    "    \n",
    "print(\"\\n\\nExamples of Lines Classified with Negative Polarity: \")\n",
    "for i in range(1, 11): \n",
    "    print(str(i) + ' episode-' + polarity_sorted.iloc[i]['Episode'] + ': ' + polarity_sorted.iloc[i]['Line'])"
   ]
  },
  {
   "cell_type": "code",
   "execution_count": null,
   "metadata": {},
   "outputs": [],
   "source": []
  }
 ],
 "metadata": {
  "kernelspec": {
   "display_name": "Python 3",
   "language": "python",
   "name": "python3"
  },
  "language_info": {
   "codemirror_mode": {
    "name": "ipython",
    "version": 3
   },
   "file_extension": ".py",
   "mimetype": "text/x-python",
   "name": "python",
   "nbconvert_exporter": "python",
   "pygments_lexer": "ipython3",
   "version": "3.6.3"
  }
 },
 "nbformat": 4,
 "nbformat_minor": 2
}
